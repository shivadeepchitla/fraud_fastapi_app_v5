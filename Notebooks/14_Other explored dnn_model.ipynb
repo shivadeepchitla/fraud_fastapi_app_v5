{
  "cells": [
    {
      "cell_type": "code",
      "execution_count": null,
      "metadata": {
        "colab": {
          "base_uri": "https://localhost:8080/"
        },
        "id": "Cu77BzD4EH-t",
        "outputId": "327bfec4-b53c-4d3d-9508-b4f37ed5fa0b"
      },
      "outputs": [
        {
          "name": "stdout",
          "output_type": "stream",
          "text": [
            "Requirement already satisfied: tensorflow in /usr/local/lib/python3.11/dist-packages (2.18.0)\n",
            "Requirement already satisfied: absl-py>=1.0.0 in /usr/local/lib/python3.11/dist-packages (from tensorflow) (1.4.0)\n",
            "Requirement already satisfied: astunparse>=1.6.0 in /usr/local/lib/python3.11/dist-packages (from tensorflow) (1.6.3)\n",
            "Requirement already satisfied: flatbuffers>=24.3.25 in /usr/local/lib/python3.11/dist-packages (from tensorflow) (25.2.10)\n",
            "Requirement already satisfied: gast!=0.5.0,!=0.5.1,!=0.5.2,>=0.2.1 in /usr/local/lib/python3.11/dist-packages (from tensorflow) (0.6.0)\n",
            "Requirement already satisfied: google-pasta>=0.1.1 in /usr/local/lib/python3.11/dist-packages (from tensorflow) (0.2.0)\n",
            "Requirement already satisfied: libclang>=13.0.0 in /usr/local/lib/python3.11/dist-packages (from tensorflow) (18.1.1)\n",
            "Requirement already satisfied: opt-einsum>=2.3.2 in /usr/local/lib/python3.11/dist-packages (from tensorflow) (3.4.0)\n",
            "Requirement already satisfied: packaging in /usr/local/lib/python3.11/dist-packages (from tensorflow) (24.2)\n",
            "Requirement already satisfied: protobuf!=4.21.0,!=4.21.1,!=4.21.2,!=4.21.3,!=4.21.4,!=4.21.5,<6.0.0dev,>=3.20.3 in /usr/local/lib/python3.11/dist-packages (from tensorflow) (5.29.4)\n",
            "Requirement already satisfied: requests<3,>=2.21.0 in /usr/local/lib/python3.11/dist-packages (from tensorflow) (2.32.3)\n",
            "Requirement already satisfied: setuptools in /usr/local/lib/python3.11/dist-packages (from tensorflow) (75.2.0)\n",
            "Requirement already satisfied: six>=1.12.0 in /usr/local/lib/python3.11/dist-packages (from tensorflow) (1.17.0)\n",
            "Requirement already satisfied: termcolor>=1.1.0 in /usr/local/lib/python3.11/dist-packages (from tensorflow) (3.0.1)\n",
            "Requirement already satisfied: typing-extensions>=3.6.6 in /usr/local/lib/python3.11/dist-packages (from tensorflow) (4.13.0)\n",
            "Requirement already satisfied: wrapt>=1.11.0 in /usr/local/lib/python3.11/dist-packages (from tensorflow) (1.17.2)\n",
            "Requirement already satisfied: grpcio<2.0,>=1.24.3 in /usr/local/lib/python3.11/dist-packages (from tensorflow) (1.71.0)\n",
            "Requirement already satisfied: tensorboard<2.19,>=2.18 in /usr/local/lib/python3.11/dist-packages (from tensorflow) (2.18.0)\n",
            "Requirement already satisfied: keras>=3.5.0 in /usr/local/lib/python3.11/dist-packages (from tensorflow) (3.8.0)\n",
            "Requirement already satisfied: numpy<2.1.0,>=1.26.0 in /usr/local/lib/python3.11/dist-packages (from tensorflow) (2.0.2)\n",
            "Requirement already satisfied: h5py>=3.11.0 in /usr/local/lib/python3.11/dist-packages (from tensorflow) (3.13.0)\n",
            "Requirement already satisfied: ml-dtypes<0.5.0,>=0.4.0 in /usr/local/lib/python3.11/dist-packages (from tensorflow) (0.4.1)\n",
            "Requirement already satisfied: tensorflow-io-gcs-filesystem>=0.23.1 in /usr/local/lib/python3.11/dist-packages (from tensorflow) (0.37.1)\n",
            "Requirement already satisfied: wheel<1.0,>=0.23.0 in /usr/local/lib/python3.11/dist-packages (from astunparse>=1.6.0->tensorflow) (0.45.1)\n",
            "Requirement already satisfied: rich in /usr/local/lib/python3.11/dist-packages (from keras>=3.5.0->tensorflow) (13.9.4)\n",
            "Requirement already satisfied: namex in /usr/local/lib/python3.11/dist-packages (from keras>=3.5.0->tensorflow) (0.0.8)\n",
            "Requirement already satisfied: optree in /usr/local/lib/python3.11/dist-packages (from keras>=3.5.0->tensorflow) (0.14.1)\n",
            "Requirement already satisfied: charset-normalizer<4,>=2 in /usr/local/lib/python3.11/dist-packages (from requests<3,>=2.21.0->tensorflow) (3.4.1)\n",
            "Requirement already satisfied: idna<4,>=2.5 in /usr/local/lib/python3.11/dist-packages (from requests<3,>=2.21.0->tensorflow) (3.10)\n",
            "Requirement already satisfied: urllib3<3,>=1.21.1 in /usr/local/lib/python3.11/dist-packages (from requests<3,>=2.21.0->tensorflow) (2.3.0)\n",
            "Requirement already satisfied: certifi>=2017.4.17 in /usr/local/lib/python3.11/dist-packages (from requests<3,>=2.21.0->tensorflow) (2025.1.31)\n",
            "Requirement already satisfied: markdown>=2.6.8 in /usr/local/lib/python3.11/dist-packages (from tensorboard<2.19,>=2.18->tensorflow) (3.7)\n",
            "Requirement already satisfied: tensorboard-data-server<0.8.0,>=0.7.0 in /usr/local/lib/python3.11/dist-packages (from tensorboard<2.19,>=2.18->tensorflow) (0.7.2)\n",
            "Requirement already satisfied: werkzeug>=1.0.1 in /usr/local/lib/python3.11/dist-packages (from tensorboard<2.19,>=2.18->tensorflow) (3.1.3)\n",
            "Requirement already satisfied: MarkupSafe>=2.1.1 in /usr/local/lib/python3.11/dist-packages (from werkzeug>=1.0.1->tensorboard<2.19,>=2.18->tensorflow) (3.0.2)\n",
            "Requirement already satisfied: markdown-it-py>=2.2.0 in /usr/local/lib/python3.11/dist-packages (from rich->keras>=3.5.0->tensorflow) (3.0.0)\n",
            "Requirement already satisfied: pygments<3.0.0,>=2.13.0 in /usr/local/lib/python3.11/dist-packages (from rich->keras>=3.5.0->tensorflow) (2.18.0)\n",
            "Requirement already satisfied: mdurl~=0.1 in /usr/local/lib/python3.11/dist-packages (from markdown-it-py>=2.2.0->rich->keras>=3.5.0->tensorflow) (0.1.2)\n"
          ]
        }
      ],
      "source": [
        "!pip install tensorflow"
      ]
    },
    {
      "cell_type": "code",
      "execution_count": null,
      "metadata": {
        "id": "Ysl8EERzEXYu"
      },
      "outputs": [],
      "source": [
        "import pandas as pd\n",
        "import numpy as np\n",
        "from tabulate import tabulate\n",
        "from sklearn.model_selection import train_test_split\n",
        "from sklearn.preprocessing import StandardScaler"
      ]
    },
    {
      "cell_type": "code",
      "execution_count": null,
      "metadata": {
        "id": "zLNppU1IEZlO"
      },
      "outputs": [],
      "source": [
        "import pandas as pd\n",
        "import numpy as np\n",
        "from sklearn.model_selection import train_test_split\n",
        "from sklearn.preprocessing import StandardScaler\n",
        "from sklearn.metrics import classification_report, confusion_matrix, precision_recall_curve\n",
        "from sklearn.utils.class_weight import compute_class_weight\n",
        "import tensorflow as tf\n",
        "from tensorflow.keras.models import Sequential\n",
        "from tensorflow.keras.layers import Dense, Dropout\n",
        "from tensorflow.keras.callbacks import EarlyStopping\n",
        "from tensorflow.keras.layers import Dense, Dropout, BatchNormalization\n",
        "import matplotlib.pyplot as plt\n",
        "import seaborn as sns\n",
        "from imblearn.over_sampling import SMOTENC\n",
        "from imblearn.over_sampling import ADASYN\n"
      ]
    },
    {
      "cell_type": "code",
      "execution_count": null,
      "metadata": {
        "id": "fMazEWO5IRi0"
      },
      "outputs": [],
      "source": [
        "from sklearn.model_selection import train_test_split, StratifiedKFold\n",
        "from sklearn.preprocessing import StandardScaler, OneHotEncoder, OrdinalEncoder\n",
        "from sklearn.compose import ColumnTransformer\n",
        "from sklearn.pipeline import Pipeline\n",
        "from sklearn.impute import SimpleImputer\n",
        "from sklearn.feature_selection import mutual_info_classif\n",
        "from sklearn.metrics import roc_auc_score\n",
        "from imblearn.over_sampling import SMOTENC\n",
        "import tensorflow as tf\n",
        "from tensorflow.keras import layers, models, Input"
      ]
    },
    {
      "cell_type": "code",
      "execution_count": null,
      "metadata": {
        "id": "kRfIM4yrQsjH"
      },
      "outputs": [],
      "source": [
        "import tensorflow.keras.backend as K # Import keras backend\n",
        "\n",
        "def focal_loss(gamma=2., alpha=0.25):\n",
        "    def focal_loss_fixed(y_true, y_pred):\n",
        "        # K = keras.backend  # Define K here using keras.backend - No need for this line now\n",
        "        epsilon = tf.keras.backend.epsilon()\n",
        "        y_pred = tf.clip_by_value(y_pred, epsilon, 1. - epsilon)\n",
        "        pt_1 = tf.where(tf.equal(y_true, 1), y_pred, tf.ones_like(y_pred))\n",
        "        pt_0 = tf.where(tf.equal(y_true, 0), y_pred, tf.zeros_like(y_pred))\n",
        "        return -K.mean(alpha * K.pow(1. - pt_1, gamma) * K.log(pt_1)) - \\\n",
        "               K.mean((1 - alpha) * K.pow(pt_0, gamma) * K.log(1. - pt_0))\n",
        "    return focal_loss_fixed\n"
      ]
    },
    {
      "cell_type": "code",
      "execution_count": null,
      "metadata": {
        "id": "G2guDS5YEeHO"
      },
      "outputs": [],
      "source": [
        "# === Load and preprocess data ==\n",
        "df = pd.read_csv(\"carclaims.csv\")\n",
        "df[\"FraudFound\"] = df[\"FraudFound\"].map({\"Yes\": 1, \"No\": 0})\n",
        "df.drop(columns=[\"PolicyNumber\", \"RepNumber\", \"Year\"], inplace=True)\n",
        "\n",
        "X = df.drop(columns=[\"FraudFound\"])\n",
        "y = df[\"FraudFound\"]"
      ]
    },
    {
      "cell_type": "code",
      "execution_count": null,
      "metadata": {
        "id": "SF0l1fPKE1ko"
      },
      "outputs": [],
      "source": [
        "# Identify column types\n",
        "numeric_cols = X.select_dtypes(include=[\"int64\", \"float64\"]).columns.tolist()\n",
        "categorical_cols = X.select_dtypes(include=[\"object\"]).columns.tolist()\n",
        "\n",
        "# Define encoding strategies\n",
        "one_hot_cols = [\n",
        "    \"Month\", \"MonthClaimed\", \"DayOfWeek\", \"DayOfWeekClaimed\", \"Sex\", \"MaritalStatus\",\n",
        "    \"AccidentArea\", \"Fault\", \"PolicyType\", \"VehicleCategory\", \"PoliceReportFiled\",\n",
        "    \"WitnessPresent\", \"AgentType\", \"BasePolicy\"\n",
        "]\n",
        "\n",
        "ordinal_cols = [\n",
        "    \"VehiclePrice\", \"Days:Policy-Accident\", \"Days:Policy-Claim\", \"PastNumberOfClaims\",\n",
        "    \"AgeOfVehicle\", \"AgeOfPolicyHolder\", \"NumberOfSuppliments\", \"AddressChange-Claim\", \"NumberOfCars\"\n",
        "]\n",
        "\n",
        "embedding_col = [\"Make\"]"
      ]
    },
    {
      "cell_type": "code",
      "execution_count": null,
      "metadata": {
        "colab": {
          "base_uri": "https://localhost:8080/"
        },
        "id": "LOvN1fQuE2-F",
        "outputId": "c11c05a3-6818-4ef0-aed9-5abf6a93976a"
      },
      "outputs": [
        {
          "name": "stdout",
          "output_type": "stream",
          "text": [
            "╒════╤═════════╤═══════════════╤═════════════╤════════╤════════════════╤════════════════════╤════════════════╤══════════════════════╤════════╤═════════════════╤═══════╤═══════════════╤═══════════════════╤═══════════════════╤══════════════════╤══════════════╤════════════════╤════════════════════════╤═════════════════════╤══════════════════════╤════════════════╤═════════════════════╤═════════════════════╤══════════════════╤═════════════╤═══════════════════════╤═══════════════════════╤════════════════╤══════════════╕\n",
            "│    │ Month   │   WeekOfMonth │ DayOfWeek   │ Make   │ AccidentArea   │ DayOfWeekClaimed   │ MonthClaimed   │   WeekOfMonthClaimed │ Sex    │ MaritalStatus   │   Age │ Fault         │ PolicyType        │ VehicleCategory   │ VehiclePrice     │   Deductible │   DriverRating │ Days:Policy-Accident   │ Days:Policy-Claim   │ PastNumberOfClaims   │ AgeOfVehicle   │ AgeOfPolicyHolder   │ PoliceReportFiled   │ WitnessPresent   │ AgentType   │ NumberOfSuppliments   │ AddressChange-Claim   │ NumberOfCars   │ BasePolicy   │\n",
            "╞════╪═════════╪═══════════════╪═════════════╪════════╪════════════════╪════════════════════╪════════════════╪══════════════════════╪════════╪═════════════════╪═══════╪═══════════════╪═══════════════════╪═══════════════════╪══════════════════╪══════════════╪════════════════╪════════════════════════╪═════════════════════╪══════════════════════╪════════════════╪═════════════════════╪═════════════════════╪══════════════════╪═════════════╪═══════════════════════╪═══════════════════════╪════════════════╪══════════════╡\n",
            "│  0 │ Dec     │             5 │ Wednesday   │ Honda  │ Urban          │ Tuesday            │ Jan            │                    1 │ Female │ Single          │    21 │ Policy Holder │ Sport - Liability │ Sport             │ more than 69,000 │          300 │              1 │ more than 30           │ more than 30        │ none                 │ 3 years        │ 26 to 30            │ No                  │ No               │ External    │ none                  │ 1 year                │ 3 to 4         │ Liability    │\n",
            "├────┼─────────┼───────────────┼─────────────┼────────┼────────────────┼────────────────────┼────────────────┼──────────────────────┼────────┼─────────────────┼───────┼───────────────┼───────────────────┼───────────────────┼──────────────────┼──────────────┼────────────────┼────────────────────────┼─────────────────────┼──────────────────────┼────────────────┼─────────────────────┼─────────────────────┼──────────────────┼─────────────┼───────────────────────┼───────────────────────┼────────────────┼──────────────┤\n",
            "│  1 │ Jan     │             3 │ Wednesday   │ Honda  │ Urban          │ Monday             │ Jan            │                    4 │ Male   │ Single          │    34 │ Policy Holder │ Sport - Collision │ Sport             │ more than 69,000 │          400 │              4 │ more than 30           │ more than 30        │ none                 │ 6 years        │ 31 to 35            │ Yes                 │ No               │ External    │ none                  │ no change             │ 1 vehicle      │ Collision    │\n",
            "├────┼─────────┼───────────────┼─────────────┼────────┼────────────────┼────────────────────┼────────────────┼──────────────────────┼────────┼─────────────────┼───────┼───────────────┼───────────────────┼───────────────────┼──────────────────┼──────────────┼────────────────┼────────────────────────┼─────────────────────┼──────────────────────┼────────────────┼─────────────────────┼─────────────────────┼──────────────────┼─────────────┼───────────────────────┼───────────────────────┼────────────────┼──────────────┤\n",
            "│  2 │ Oct     │             5 │ Friday      │ Honda  │ Urban          │ Thursday           │ Nov            │                    2 │ Male   │ Married         │    47 │ Policy Holder │ Sport - Collision │ Sport             │ more than 69,000 │          400 │              3 │ more than 30           │ more than 30        │ 1                    │ 7 years        │ 41 to 50            │ No                  │ No               │ External    │ none                  │ no change             │ 1 vehicle      │ Collision    │\n",
            "├────┼─────────┼───────────────┼─────────────┼────────┼────────────────┼────────────────────┼────────────────┼──────────────────────┼────────┼─────────────────┼───────┼───────────────┼───────────────────┼───────────────────┼──────────────────┼──────────────┼────────────────┼────────────────────────┼─────────────────────┼──────────────────────┼────────────────┼─────────────────────┼─────────────────────┼──────────────────┼─────────────┼───────────────────────┼───────────────────────┼────────────────┼──────────────┤\n",
            "│  3 │ Jun     │             2 │ Saturday    │ Toyota │ Rural          │ Friday             │ Jul            │                    1 │ Male   │ Married         │    65 │ Third Party   │ Sedan - Liability │ Sport             │ 20,000 to 29,000 │          400 │              2 │ more than 30           │ more than 30        │ 1                    │ more than 7    │ 51 to 65            │ Yes                 │ No               │ External    │ more than 5           │ no change             │ 1 vehicle      │ Liability    │\n",
            "├────┼─────────┼───────────────┼─────────────┼────────┼────────────────┼────────────────────┼────────────────┼──────────────────────┼────────┼─────────────────┼───────┼───────────────┼───────────────────┼───────────────────┼──────────────────┼──────────────┼────────────────┼────────────────────────┼─────────────────────┼──────────────────────┼────────────────┼─────────────────────┼─────────────────────┼──────────────────┼─────────────┼───────────────────────┼───────────────────────┼────────────────┼──────────────┤\n",
            "│  4 │ Jan     │             5 │ Monday      │ Honda  │ Urban          │ Tuesday            │ Feb            │                    2 │ Female │ Single          │    27 │ Third Party   │ Sport - Collision │ Sport             │ more than 69,000 │          400 │              1 │ more than 30           │ more than 30        │ none                 │ 5 years        │ 31 to 35            │ No                  │ No               │ External    │ none                  │ no change             │ 1 vehicle      │ Collision    │\n",
            "╘════╧═════════╧═══════════════╧═════════════╧════════╧════════════════╧════════════════════╧════════════════╧══════════════════════╧════════╧═════════════════╧═══════╧═══════════════╧═══════════════════╧═══════════════════╧══════════════════╧══════════════╧════════════════╧════════════════════════╧═════════════════════╧══════════════════════╧════════════════╧═════════════════════╧═════════════════════╧══════════════════╧═════════════╧═══════════════════════╧═══════════════════════╧════════════════╧══════════════╛\n"
          ]
        }
      ],
      "source": [
        "print(tabulate(X.head(), headers='keys', tablefmt='fancy_grid'))"
      ]
    },
    {
      "cell_type": "code",
      "execution_count": null,
      "metadata": {
        "colab": {
          "base_uri": "https://localhost:8080/"
        },
        "id": "kJ1I2J7AFIcJ",
        "outputId": "fce10798-85ca-4acb-a19b-e7f44bfafcff"
      },
      "outputs": [
        {
          "name": "stdout",
          "output_type": "stream",
          "text": [
            "ordinal_cols\n",
            "['VehiclePrice', 'Days:Policy-Accident', 'Days:Policy-Claim', 'PastNumberOfClaims', 'AgeOfVehicle', 'AgeOfPolicyHolder', 'NumberOfSuppliments', 'AddressChange-Claim', 'NumberOfCars'] 9\n",
            "one_hot_cols\n",
            "['Month', 'MonthClaimed', 'DayOfWeek', 'DayOfWeekClaimed', 'Sex', 'MaritalStatus', 'AccidentArea', 'Fault', 'PolicyType', 'VehicleCategory', 'PoliceReportFiled', 'WitnessPresent', 'AgentType', 'BasePolicy'] 14\n",
            "numeric_cols\n",
            "['WeekOfMonth', 'WeekOfMonthClaimed', 'Age', 'Deductible', 'DriverRating'] 5\n"
          ]
        }
      ],
      "source": [
        "print(\"ordinal_cols\")\n",
        "print(ordinal_cols, len(ordinal_cols))\n",
        "print(\"one_hot_cols\")\n",
        "print(one_hot_cols,len(one_hot_cols))\n",
        "print(\"numeric_cols\")\n",
        "print(numeric_cols,len(numeric_cols))"
      ]
    },
    {
      "cell_type": "code",
      "execution_count": null,
      "metadata": {
        "colab": {
          "base_uri": "https://localhost:8080/"
        },
        "id": "9fqP6uWoFUEc",
        "outputId": "36da9fae-f9d8-470c-8404-cab367147a62"
      },
      "outputs": [
        {
          "name": "stdout",
          "output_type": "stream",
          "text": [
            "[]\n"
          ]
        }
      ],
      "source": [
        "print(df.columns[df.isna().any()].tolist())"
      ]
    },
    {
      "cell_type": "code",
      "execution_count": null,
      "metadata": {
        "colab": {
          "base_uri": "https://localhost:8080/"
        },
        "id": "dxaz5qUOFX38",
        "outputId": "93e3a477-7a4d-4cf0-b18f-c34d5409d8b3"
      },
      "outputs": [
        {
          "name": "stdout",
          "output_type": "stream",
          "text": [
            "['3 to 4' '1 vehicle' '2 vehicles' '5 to 8' 'more than 8']\n"
          ]
        }
      ],
      "source": [
        "\n",
        "print(df['NumberOfCars'].unique())\n"
      ]
    },
    {
      "cell_type": "code",
      "execution_count": null,
      "metadata": {
        "id": "XFmjU36hIH8e"
      },
      "outputs": [],
      "source": [
        "categorical_cols_cleaned = list(set(one_hot_cols + ordinal_cols + embedding_col))\n",
        "remaining_cols = [col for col in X.columns if col not in categorical_cols_cleaned]\n",
        "final_numeric_cols = [col for col in remaining_cols if col in numeric_cols]\n",
        "\n",
        "# Map 'Make' to integer indices for embedding\n",
        "make_vocab = X[\"Make\"].astype(\"category\").cat.categories.tolist()\n",
        "make_to_idx = {cat: i for i, cat in enumerate(make_vocab)}\n",
        "X[\"Make_encoded\"] = X[\"Make\"].map(make_to_idx)\n",
        "\n",
        "# Save embedding inputs\n",
        "make_input = X[\"Make_encoded\"].values\n",
        "X = X.drop(columns=[\"Make\"])\n",
        "\n",
        "# ---------------------------\n",
        "# 2. Preprocessing Pipelines\n",
        "# ---------------------------\n",
        "\n",
        "numeric_transformer = Pipeline([\n",
        "    (\"imputer\", SimpleImputer(strategy=\"median\")),\n",
        "    (\"scaler\", StandardScaler())\n",
        "])\n",
        "\n",
        "one_hot_transformer = Pipeline([\n",
        "    (\"imputer\", SimpleImputer(strategy=\"most_frequent\")),\n",
        "    (\"onehot\", OneHotEncoder(handle_unknown=\"ignore\", sparse_output=False))\n",
        "])\n",
        "\n",
        "ordinal_transformer = Pipeline([\n",
        "    (\"imputer\", SimpleImputer(strategy=\"most_frequent\")),\n",
        "    (\"ordinal\", OrdinalEncoder(handle_unknown=\"use_encoded_value\", unknown_value=-1))\n",
        "])\n",
        "\n",
        "preprocessor = ColumnTransformer([\n",
        "    (\"num\", numeric_transformer, final_numeric_cols),\n",
        "    (\"onehot\", one_hot_transformer, one_hot_cols),\n",
        "    (\"ordinal\", ordinal_transformer, ordinal_cols)\n",
        "])"
      ]
    },
    {
      "cell_type": "code",
      "execution_count": null,
      "metadata": {
        "id": "8ozmMjRTJHZs"
      },
      "outputs": [],
      "source": [
        "\n",
        "# ---------------------------\n",
        "# 3. Train/Test Split & Oversampling\n",
        "# ---------------------------\n",
        "\n",
        "X_train, X_test, y_train, y_test, make_train, make_test = train_test_split(\n",
        "    X, y, make_input, test_size=0.2, stratify=y, random_state=42\n",
        ")\n",
        "\n",
        "X_train_proc = preprocessor.fit_transform(X_train)\n",
        "X_test_proc = preprocessor.transform(X_test)\n"
      ]
    },
    {
      "cell_type": "code",
      "execution_count": null,
      "metadata": {
        "colab": {
          "base_uri": "https://localhost:8080/"
        },
        "id": "0hDyzwZhJJNc",
        "outputId": "81814e24-3fce-45fd-dd74-7a60d09ead03"
      },
      "outputs": [
        {
          "name": "stdout",
          "output_type": "stream",
          "text": [
            "---------  ---------  ----------  --------  --------  -  -  -  -  -  -  -  -  -  -  -  -  -  -  -  -  -  -  -  -  -  -  -  -  -  -  -  -  -  -  -  -  -  -  -  -  -  -  -  -  -  -  -  -  -  -  -  -  -  -  -  -  -  -  -  -  -  -  -  -  -  -  -  -  -  -  -  -  -  -  -  -  -  -  -  -  -  -  -  -\n",
            " 0.164069   0.238005  -1.24981    -0.17736   1.34855  0  0  0  0  0  0  0  0  0  0  0  1  0  0  0  0  0  0  0  0  0  0  0  0  1  1  0  0  0  0  0  0  0  0  0  0  0  0  1  0  0  1  0  0  1  0  0  1  0  1  0  1  0  0  0  0  0  0  0  1  0  0  0  1  1  0  1  0  0  1  0  0  3  2  1  4  3  2  3  0\n",
            " 0.164069   0.238005  -0.434568   -0.17736  -1.33204  0  0  0  0  0  1  0  0  0  0  0  0  0  0  0  0  0  0  1  0  0  0  0  0  0  0  0  1  0  0  0  0  0  0  0  0  0  0  1  0  0  1  0  1  0  0  0  1  0  1  0  0  1  0  0  0  0  0  0  0  1  0  1  0  1  0  1  0  0  0  1  0  3  2  2  4  4  1  3  0\n",
            "-0.615874  -0.559179   0.380677   -0.17736   1.34855  0  0  0  0  0  1  0  0  0  0  0  0  0  0  0  0  0  0  1  0  0  0  0  0  0  0  0  0  0  1  0  0  0  0  0  0  0  1  0  0  0  1  0  1  0  0  0  1  1  0  0  1  0  0  0  0  0  0  0  1  0  0  1  0  1  0  1  0  0  1  0  2  3  2  1  5  5  3  3  2\n",
            " 0.164069   0.238005   0.0101113  -0.17736  -1.33204  0  0  0  0  0  0  0  0  0  1  0  0  0  0  0  1  0  0  0  0  0  0  0  0  0  0  0  0  0  1  0  0  0  0  0  0  0  0  0  1  0  1  0  1  0  0  0  1  0  1  0  0  1  0  0  0  0  0  0  0  1  0  1  0  1  0  1  0  0  0  1  0  3  2  1  5  5  2  3  0\n",
            " 0.164069   1.83237   -0.879247   -0.17736  -1.33204  0  0  0  0  1  0  0  0  0  0  0  0  0  0  0  0  0  1  0  0  0  0  0  0  0  0  0  0  0  0  1  0  0  1  0  0  0  0  0  0  0  1  0  0  1  0  0  1  1  0  1  0  0  0  0  0  0  0  0  1  0  0  1  0  1  0  1  0  1  0  0  4  3  2  3  3  4  3  3  0\n",
            "---------  ---------  ----------  --------  --------  -  -  -  -  -  -  -  -  -  -  -  -  -  -  -  -  -  -  -  -  -  -  -  -  -  -  -  -  -  -  -  -  -  -  -  -  -  -  -  -  -  -  -  -  -  -  -  -  -  -  -  -  -  -  -  -  -  -  -  -  -  -  -  -  -  -  -  -  -  -  -  -  -  -  -  -  -  -  -  -\n"
          ]
        }
      ],
      "source": [
        "print(tabulate(X_train_proc[:5]))"
      ]
    },
    {
      "cell_type": "code",
      "execution_count": null,
      "metadata": {
        "id": "UvNnJMfvKPRF"
      },
      "outputs": [],
      "source": [
        "# Calculate the total number of features after preprocessing\n",
        "num_features_after_preprocessing = X_train_proc.shape[1]\n",
        "\n",
        "# Create a boolean mask indicating categorical features\n",
        "cat_feature_indices = [\n",
        "    i\n",
        "    for i, col in enumerate(X_train.columns)\n",
        "    if col in one_hot_cols + ordinal_cols\n",
        "]\n",
        "\n",
        "# Create a boolean mask for SMOTENC\n",
        "categorical_features_bool = [False] * num_features_after_preprocessing\n",
        "\n",
        "# Update the mask to True for categorical features\n",
        "for index in cat_feature_indices:\n",
        "    try:\n",
        "        categorical_features_bool[index] = True\n",
        "    except IndexError:\n",
        "        # Handle potential mismatch if cat_feature_indices are incorrect\n",
        "        print(f\"IndexError: Index {index} is out of bounds for the preprocessed data.\")\n",
        "        break"
      ]
    },
    {
      "cell_type": "code",
      "execution_count": null,
      "metadata": {
        "colab": {
          "base_uri": "https://localhost:8080/"
        },
        "id": "dke5Bs5-ZYsw",
        "outputId": "140df84e-233d-4bb5-c81c-5a8b154ff605"
      },
      "outputs": [
        {
          "name": "stdout",
          "output_type": "stream",
          "text": [
            "Class distribution before ADASYN:\n",
            "FraudFound\n",
            "0    0.940175\n",
            "1    0.059825\n",
            "Name: proportion, dtype: float64\n",
            "Class distribution after ADASYN:\n",
            "FraudFound\n",
            "1    0.500904\n",
            "0    0.499096\n",
            "Name: proportion, dtype: float64\n"
          ]
        }
      ],
      "source": [
        "# Apply ADASYN to numeric+encoded inputs only\n",
        "print(\"Class distribution before ADASYN:\")\n",
        "print(y_train.value_counts(normalize=True))\n",
        "adasyn = ADASYN(random_state=42)\n",
        "X_train_res, y_train_res = adasyn.fit_resample(X_train_proc, y_train)\n",
        "\n",
        "# Calculate the oversampling ratio\n",
        "oversampling_ratio = len(y_train_res) / len(y_train)\n",
        "\n",
        "# Repeat make_train based on the ratio, ensuring the length matches y_train_res\n",
        "make_train_res = np.repeat(make_train, repeats=int(oversampling_ratio))\n",
        "\n",
        "# Adjust the length of make_train_res if necessary to match y_train_res\n",
        "make_train_res = make_train_res[:len(y_train_res)]\n",
        "print(\"Class distribution after ADASYN:\")\n",
        "print(pd.Series(y_train_res).value_counts(normalize=True))"
      ]
    },
    {
      "cell_type": "code",
      "execution_count": null,
      "metadata": {
        "id": "nmCQgCqVKVir"
      },
      "outputs": [],
      "source": [
        "# # SMOTENC oversampling\n",
        "# smote = SMOTENC(categorical_features=cat_feature_indices, random_state=42)\n",
        "# X_train_res, y_train_res = smote.fit_resample(X_train_proc, y_train)\n",
        "\n",
        "# # Calculate the oversampling ratio\n",
        "# oversampling_ratio = len(y_train_res) / len(y_train)\n",
        "\n",
        "# # Repeat make_train based on the ratio, ensuring the length matches y_train_res\n",
        "# make_train_res = np.repeat(make_train, repeats=int(oversampling_ratio))\n",
        "\n",
        "# # Adjust the length of make_train_res if necessary to match y_train_res\n",
        "# make_train_res = make_train_res[:len(y_train_res)]"
      ]
    },
    {
      "cell_type": "code",
      "execution_count": null,
      "metadata": {
        "id": "8xz5H1SJLDWh"
      },
      "outputs": [],
      "source": [
        "# ---------------------------\n",
        "# 4. Optimal Feature Selection\n",
        "# ---------------------------\n",
        "\n",
        "mi_scores = mutual_info_classif(X_train_res, y_train_res, random_state=42)\n",
        "sorted_indices = np.argsort(mi_scores)[::-1]"
      ]
    },
    {
      "cell_type": "code",
      "execution_count": null,
      "metadata": {
        "colab": {
          "base_uri": "https://localhost:8080/"
        },
        "id": "5mauEljpLJR2",
        "outputId": "1799dff0-13b4-467a-de01-5be09b37d00a"
      },
      "outputs": [
        {
          "name": "stderr",
          "output_type": "stream",
          "text": [
            "/usr/local/lib/python3.11/dist-packages/keras/src/layers/core/dense.py:87: UserWarning: Do not pass an `input_shape`/`input_dim` argument to a layer. When using Sequential models, prefer using an `Input(shape)` object as the first layer in the model instead.\n",
            "  super().__init__(activity_regularizer=activity_regularizer, **kwargs)\n",
            "/usr/local/lib/python3.11/dist-packages/keras/src/layers/core/dense.py:87: UserWarning: Do not pass an `input_shape`/`input_dim` argument to a layer. When using Sequential models, prefer using an `Input(shape)` object as the first layer in the model instead.\n",
            "  super().__init__(activity_regularizer=activity_regularizer, **kwargs)\n",
            "/usr/local/lib/python3.11/dist-packages/keras/src/layers/core/dense.py:87: UserWarning: Do not pass an `input_shape`/`input_dim` argument to a layer. When using Sequential models, prefer using an `Input(shape)` object as the first layer in the model instead.\n",
            "  super().__init__(activity_regularizer=activity_regularizer, **kwargs)\n",
            "/usr/local/lib/python3.11/dist-packages/keras/src/layers/core/dense.py:87: UserWarning: Do not pass an `input_shape`/`input_dim` argument to a layer. When using Sequential models, prefer using an `Input(shape)` object as the first layer in the model instead.\n",
            "  super().__init__(activity_regularizer=activity_regularizer, **kwargs)\n",
            "/usr/local/lib/python3.11/dist-packages/keras/src/layers/core/dense.py:87: UserWarning: Do not pass an `input_shape`/`input_dim` argument to a layer. When using Sequential models, prefer using an `Input(shape)` object as the first layer in the model instead.\n",
            "  super().__init__(activity_regularizer=activity_regularizer, **kwargs)\n",
            "/usr/local/lib/python3.11/dist-packages/keras/src/layers/core/dense.py:87: UserWarning: Do not pass an `input_shape`/`input_dim` argument to a layer. When using Sequential models, prefer using an `Input(shape)` object as the first layer in the model instead.\n",
            "  super().__init__(activity_regularizer=activity_regularizer, **kwargs)\n",
            "/usr/local/lib/python3.11/dist-packages/keras/src/layers/core/dense.py:87: UserWarning: Do not pass an `input_shape`/`input_dim` argument to a layer. When using Sequential models, prefer using an `Input(shape)` object as the first layer in the model instead.\n",
            "  super().__init__(activity_regularizer=activity_regularizer, **kwargs)\n",
            "/usr/local/lib/python3.11/dist-packages/keras/src/layers/core/dense.py:87: UserWarning: Do not pass an `input_shape`/`input_dim` argument to a layer. When using Sequential models, prefer using an `Input(shape)` object as the first layer in the model instead.\n",
            "  super().__init__(activity_regularizer=activity_regularizer, **kwargs)\n",
            "/usr/local/lib/python3.11/dist-packages/keras/src/layers/core/dense.py:87: UserWarning: Do not pass an `input_shape`/`input_dim` argument to a layer. When using Sequential models, prefer using an `Input(shape)` object as the first layer in the model instead.\n",
            "  super().__init__(activity_regularizer=activity_regularizer, **kwargs)\n",
            "/usr/local/lib/python3.11/dist-packages/keras/src/layers/core/dense.py:87: UserWarning: Do not pass an `input_shape`/`input_dim` argument to a layer. When using Sequential models, prefer using an `Input(shape)` object as the first layer in the model instead.\n",
            "  super().__init__(activity_regularizer=activity_regularizer, **kwargs)\n",
            "/usr/local/lib/python3.11/dist-packages/keras/src/layers/core/dense.py:87: UserWarning: Do not pass an `input_shape`/`input_dim` argument to a layer. When using Sequential models, prefer using an `Input(shape)` object as the first layer in the model instead.\n",
            "  super().__init__(activity_regularizer=activity_regularizer, **kwargs)\n",
            "/usr/local/lib/python3.11/dist-packages/keras/src/layers/core/dense.py:87: UserWarning: Do not pass an `input_shape`/`input_dim` argument to a layer. When using Sequential models, prefer using an `Input(shape)` object as the first layer in the model instead.\n",
            "  super().__init__(activity_regularizer=activity_regularizer, **kwargs)\n",
            "/usr/local/lib/python3.11/dist-packages/keras/src/layers/core/dense.py:87: UserWarning: Do not pass an `input_shape`/`input_dim` argument to a layer. When using Sequential models, prefer using an `Input(shape)` object as the first layer in the model instead.\n",
            "  super().__init__(activity_regularizer=activity_regularizer, **kwargs)\n",
            "/usr/local/lib/python3.11/dist-packages/keras/src/layers/core/dense.py:87: UserWarning: Do not pass an `input_shape`/`input_dim` argument to a layer. When using Sequential models, prefer using an `Input(shape)` object as the first layer in the model instead.\n",
            "  super().__init__(activity_regularizer=activity_regularizer, **kwargs)\n",
            "/usr/local/lib/python3.11/dist-packages/keras/src/layers/core/dense.py:87: UserWarning: Do not pass an `input_shape`/`input_dim` argument to a layer. When using Sequential models, prefer using an `Input(shape)` object as the first layer in the model instead.\n",
            "  super().__init__(activity_regularizer=activity_regularizer, **kwargs)\n",
            "/usr/local/lib/python3.11/dist-packages/keras/src/layers/core/dense.py:87: UserWarning: Do not pass an `input_shape`/`input_dim` argument to a layer. When using Sequential models, prefer using an `Input(shape)` object as the first layer in the model instead.\n",
            "  super().__init__(activity_regularizer=activity_regularizer, **kwargs)\n",
            "/usr/local/lib/python3.11/dist-packages/keras/src/layers/core/dense.py:87: UserWarning: Do not pass an `input_shape`/`input_dim` argument to a layer. When using Sequential models, prefer using an `Input(shape)` object as the first layer in the model instead.\n",
            "  super().__init__(activity_regularizer=activity_regularizer, **kwargs)\n",
            "/usr/local/lib/python3.11/dist-packages/keras/src/layers/core/dense.py:87: UserWarning: Do not pass an `input_shape`/`input_dim` argument to a layer. When using Sequential models, prefer using an `Input(shape)` object as the first layer in the model instead.\n",
            "  super().__init__(activity_regularizer=activity_regularizer, **kwargs)\n",
            "/usr/local/lib/python3.11/dist-packages/keras/src/layers/core/dense.py:87: UserWarning: Do not pass an `input_shape`/`input_dim` argument to a layer. When using Sequential models, prefer using an `Input(shape)` object as the first layer in the model instead.\n",
            "  super().__init__(activity_regularizer=activity_regularizer, **kwargs)\n",
            "/usr/local/lib/python3.11/dist-packages/keras/src/layers/core/dense.py:87: UserWarning: Do not pass an `input_shape`/`input_dim` argument to a layer. When using Sequential models, prefer using an `Input(shape)` object as the first layer in the model instead.\n",
            "  super().__init__(activity_regularizer=activity_regularizer, **kwargs)\n",
            "/usr/local/lib/python3.11/dist-packages/keras/src/layers/core/dense.py:87: UserWarning: Do not pass an `input_shape`/`input_dim` argument to a layer. When using Sequential models, prefer using an `Input(shape)` object as the first layer in the model instead.\n",
            "  super().__init__(activity_regularizer=activity_regularizer, **kwargs)\n"
          ]
        }
      ],
      "source": [
        "\n",
        "# Try different top-k features\n",
        "best_auc = 0\n",
        "best_k = 0\n",
        "best_features = None\n",
        "for k in range(20, X_train_res.shape[1], 10):\n",
        "    top_k_indices = sorted_indices[:k]\n",
        "    skf = StratifiedKFold(n_splits=3, shuffle=True, random_state=42)\n",
        "    aucs = []\n",
        "    for train_idx, val_idx in skf.split(X_train_res[:, top_k_indices], y_train_res):\n",
        "        model = models.Sequential([\n",
        "            layers.Dense(64, activation=\"relu\", input_shape=(k,)),\n",
        "            layers.Dense(32, activation=\"relu\"),\n",
        "            layers.Dense(1, activation=\"sigmoid\")\n",
        "        ])\n",
        "        model.compile(optimizer=\"adam\", loss=\"binary_crossentropy\", metrics=[\"AUC\"])\n",
        "        model.fit(X_train_res[train_idx][:, top_k_indices], y_train_res[train_idx], epochs=5, batch_size=64, verbose=0)\n",
        "        auc = model.evaluate(X_train_res[val_idx][:, top_k_indices], y_train_res[val_idx], verbose=0)[1]\n",
        "        aucs.append(auc)\n",
        "    avg_auc = np.mean(aucs)\n",
        "    if avg_auc > best_auc:\n",
        "        best_auc = avg_auc\n",
        "        best_k = k\n",
        "        best_features = top_k_indices\n",
        "\n",
        "X_train_final = X_train_res[:, best_features]\n",
        "X_test_final = X_test_proc[:, best_features]"
      ]
    },
    {
      "cell_type": "code",
      "execution_count": null,
      "metadata": {
        "id": "1DKT6qqDUbny"
      },
      "outputs": [],
      "source": [
        "\n",
        "class_weights_array = compute_class_weight(class_weight='balanced', classes=np.array([0, 1]), y=y_train_res)\n",
        "class_weights = {0: class_weights_array[0], 1: class_weights_array[1]}"
      ]
    },
    {
      "cell_type": "code",
      "execution_count": null,
      "metadata": {
        "colab": {
          "base_uri": "https://localhost:8080/",
          "height": 584
        },
        "id": "vU1l7Z0cLwy8",
        "outputId": "1674d5fd-4595-42e8-ae2a-8e1c3477ce23"
      },
      "outputs": [
        {
          "data": {
            "text/html": [
              "<pre style=\"white-space:pre;overflow-x:auto;line-height:normal;font-family:Menlo,'DejaVu Sans Mono',consolas,'Courier New',monospace\"><span style=\"font-weight: bold\">Model: \"functional_207\"</span>\n",
              "</pre>\n"
            ],
            "text/plain": [
              "\u001b[1mModel: \"functional_207\"\u001b[0m\n"
            ]
          },
          "metadata": {},
          "output_type": "display_data"
        },
        {
          "data": {
            "text/html": [
              "<pre style=\"white-space:pre;overflow-x:auto;line-height:normal;font-family:Menlo,'DejaVu Sans Mono',consolas,'Courier New',monospace\">┏━━━━━━━━━━━━━━━━━━━━━━━━━━━┳━━━━━━━━━━━━━━━━━━━━━━━━┳━━━━━━━━━━━━━━━━┳━━━━━━━━━━━━━━━━━━━━━━━━┓\n",
              "┃<span style=\"font-weight: bold\"> Layer (type)              </span>┃<span style=\"font-weight: bold\"> Output Shape           </span>┃<span style=\"font-weight: bold\">        Param # </span>┃<span style=\"font-weight: bold\"> Connected to           </span>┃\n",
              "┡━━━━━━━━━━━━━━━━━━━━━━━━━━━╇━━━━━━━━━━━━━━━━━━━━━━━━╇━━━━━━━━━━━━━━━━╇━━━━━━━━━━━━━━━━━━━━━━━━┩\n",
              "│ make_input (<span style=\"color: #0087ff; text-decoration-color: #0087ff\">InputLayer</span>)   │ (<span style=\"color: #00d7ff; text-decoration-color: #00d7ff\">None</span>, <span style=\"color: #00af00; text-decoration-color: #00af00\">1</span>)              │              <span style=\"color: #00af00; text-decoration-color: #00af00\">0</span> │ -                      │\n",
              "├───────────────────────────┼────────────────────────┼────────────────┼────────────────────────┤\n",
              "│ embedding_18 (<span style=\"color: #0087ff; text-decoration-color: #0087ff\">Embedding</span>)  │ (<span style=\"color: #00d7ff; text-decoration-color: #00d7ff\">None</span>, <span style=\"color: #00af00; text-decoration-color: #00af00\">1</span>, <span style=\"color: #00af00; text-decoration-color: #00af00\">5</span>)           │             <span style=\"color: #00af00; text-decoration-color: #00af00\">95</span> │ make_input[<span style=\"color: #00af00; text-decoration-color: #00af00\">0</span>][<span style=\"color: #00af00; text-decoration-color: #00af00\">0</span>]       │\n",
              "├───────────────────────────┼────────────────────────┼────────────────┼────────────────────────┤\n",
              "│ numeric_inputs            │ (<span style=\"color: #00d7ff; text-decoration-color: #00d7ff\">None</span>, <span style=\"color: #00af00; text-decoration-color: #00af00\">60</span>)             │              <span style=\"color: #00af00; text-decoration-color: #00af00\">0</span> │ -                      │\n",
              "│ (<span style=\"color: #0087ff; text-decoration-color: #0087ff\">InputLayer</span>)              │                        │                │                        │\n",
              "├───────────────────────────┼────────────────────────┼────────────────┼────────────────────────┤\n",
              "│ flatten_18 (<span style=\"color: #0087ff; text-decoration-color: #0087ff\">Flatten</span>)      │ (<span style=\"color: #00d7ff; text-decoration-color: #00d7ff\">None</span>, <span style=\"color: #00af00; text-decoration-color: #00af00\">5</span>)              │              <span style=\"color: #00af00; text-decoration-color: #00af00\">0</span> │ embedding_18[<span style=\"color: #00af00; text-decoration-color: #00af00\">0</span>][<span style=\"color: #00af00; text-decoration-color: #00af00\">0</span>]     │\n",
              "├───────────────────────────┼────────────────────────┼────────────────┼────────────────────────┤\n",
              "│ concatenate_18            │ (<span style=\"color: #00d7ff; text-decoration-color: #00d7ff\">None</span>, <span style=\"color: #00af00; text-decoration-color: #00af00\">65</span>)             │              <span style=\"color: #00af00; text-decoration-color: #00af00\">0</span> │ numeric_inputs[<span style=\"color: #00af00; text-decoration-color: #00af00\">0</span>][<span style=\"color: #00af00; text-decoration-color: #00af00\">0</span>],  │\n",
              "│ (<span style=\"color: #0087ff; text-decoration-color: #0087ff\">Concatenate</span>)             │                        │                │ flatten_18[<span style=\"color: #00af00; text-decoration-color: #00af00\">0</span>][<span style=\"color: #00af00; text-decoration-color: #00af00\">0</span>]       │\n",
              "├───────────────────────────┼────────────────────────┼────────────────┼────────────────────────┤\n",
              "│ dense_680 (<span style=\"color: #0087ff; text-decoration-color: #0087ff\">Dense</span>)         │ (<span style=\"color: #00d7ff; text-decoration-color: #00d7ff\">None</span>, <span style=\"color: #00af00; text-decoration-color: #00af00\">256</span>)            │         <span style=\"color: #00af00; text-decoration-color: #00af00\">16,896</span> │ concatenate_18[<span style=\"color: #00af00; text-decoration-color: #00af00\">0</span>][<span style=\"color: #00af00; text-decoration-color: #00af00\">0</span>]   │\n",
              "├───────────────────────────┼────────────────────────┼────────────────┼────────────────────────┤\n",
              "│ batch_normalization_36    │ (<span style=\"color: #00d7ff; text-decoration-color: #00d7ff\">None</span>, <span style=\"color: #00af00; text-decoration-color: #00af00\">256</span>)            │          <span style=\"color: #00af00; text-decoration-color: #00af00\">1,024</span> │ dense_680[<span style=\"color: #00af00; text-decoration-color: #00af00\">0</span>][<span style=\"color: #00af00; text-decoration-color: #00af00\">0</span>]        │\n",
              "│ (<span style=\"color: #0087ff; text-decoration-color: #0087ff\">BatchNormalization</span>)      │                        │                │                        │\n",
              "├───────────────────────────┼────────────────────────┼────────────────┼────────────────────────┤\n",
              "│ dropout_36 (<span style=\"color: #0087ff; text-decoration-color: #0087ff\">Dropout</span>)      │ (<span style=\"color: #00d7ff; text-decoration-color: #00d7ff\">None</span>, <span style=\"color: #00af00; text-decoration-color: #00af00\">256</span>)            │              <span style=\"color: #00af00; text-decoration-color: #00af00\">0</span> │ batch_normalization_3… │\n",
              "├───────────────────────────┼────────────────────────┼────────────────┼────────────────────────┤\n",
              "│ dense_681 (<span style=\"color: #0087ff; text-decoration-color: #0087ff\">Dense</span>)         │ (<span style=\"color: #00d7ff; text-decoration-color: #00d7ff\">None</span>, <span style=\"color: #00af00; text-decoration-color: #00af00\">128</span>)            │         <span style=\"color: #00af00; text-decoration-color: #00af00\">32,896</span> │ dropout_36[<span style=\"color: #00af00; text-decoration-color: #00af00\">0</span>][<span style=\"color: #00af00; text-decoration-color: #00af00\">0</span>]       │\n",
              "├───────────────────────────┼────────────────────────┼────────────────┼────────────────────────┤\n",
              "│ dense_682 (<span style=\"color: #0087ff; text-decoration-color: #0087ff\">Dense</span>)         │ (<span style=\"color: #00d7ff; text-decoration-color: #00d7ff\">None</span>, <span style=\"color: #00af00; text-decoration-color: #00af00\">64</span>)             │          <span style=\"color: #00af00; text-decoration-color: #00af00\">8,256</span> │ dense_681[<span style=\"color: #00af00; text-decoration-color: #00af00\">0</span>][<span style=\"color: #00af00; text-decoration-color: #00af00\">0</span>]        │\n",
              "├───────────────────────────┼────────────────────────┼────────────────┼────────────────────────┤\n",
              "│ dense_683 (<span style=\"color: #0087ff; text-decoration-color: #0087ff\">Dense</span>)         │ (<span style=\"color: #00d7ff; text-decoration-color: #00d7ff\">None</span>, <span style=\"color: #00af00; text-decoration-color: #00af00\">32</span>)             │          <span style=\"color: #00af00; text-decoration-color: #00af00\">2,080</span> │ dense_682[<span style=\"color: #00af00; text-decoration-color: #00af00\">0</span>][<span style=\"color: #00af00; text-decoration-color: #00af00\">0</span>]        │\n",
              "├───────────────────────────┼────────────────────────┼────────────────┼────────────────────────┤\n",
              "│ dense_684 (<span style=\"color: #0087ff; text-decoration-color: #0087ff\">Dense</span>)         │ (<span style=\"color: #00d7ff; text-decoration-color: #00d7ff\">None</span>, <span style=\"color: #00af00; text-decoration-color: #00af00\">16</span>)             │            <span style=\"color: #00af00; text-decoration-color: #00af00\">528</span> │ dense_683[<span style=\"color: #00af00; text-decoration-color: #00af00\">0</span>][<span style=\"color: #00af00; text-decoration-color: #00af00\">0</span>]        │\n",
              "├───────────────────────────┼────────────────────────┼────────────────┼────────────────────────┤\n",
              "│ dense_685 (<span style=\"color: #0087ff; text-decoration-color: #0087ff\">Dense</span>)         │ (<span style=\"color: #00d7ff; text-decoration-color: #00d7ff\">None</span>, <span style=\"color: #00af00; text-decoration-color: #00af00\">1</span>)              │             <span style=\"color: #00af00; text-decoration-color: #00af00\">17</span> │ dense_684[<span style=\"color: #00af00; text-decoration-color: #00af00\">0</span>][<span style=\"color: #00af00; text-decoration-color: #00af00\">0</span>]        │\n",
              "└───────────────────────────┴────────────────────────┴────────────────┴────────────────────────┘\n",
              "</pre>\n"
            ],
            "text/plain": [
              "┏━━━━━━━━━━━━━━━━━━━━━━━━━━━┳━━━━━━━━━━━━━━━━━━━━━━━━┳━━━━━━━━━━━━━━━━┳━━━━━━━━━━━━━━━━━━━━━━━━┓\n",
              "┃\u001b[1m \u001b[0m\u001b[1mLayer (type)             \u001b[0m\u001b[1m \u001b[0m┃\u001b[1m \u001b[0m\u001b[1mOutput Shape          \u001b[0m\u001b[1m \u001b[0m┃\u001b[1m \u001b[0m\u001b[1m       Param #\u001b[0m\u001b[1m \u001b[0m┃\u001b[1m \u001b[0m\u001b[1mConnected to          \u001b[0m\u001b[1m \u001b[0m┃\n",
              "┡━━━━━━━━━━━━━━━━━━━━━━━━━━━╇━━━━━━━━━━━━━━━━━━━━━━━━╇━━━━━━━━━━━━━━━━╇━━━━━━━━━━━━━━━━━━━━━━━━┩\n",
              "│ make_input (\u001b[38;5;33mInputLayer\u001b[0m)   │ (\u001b[38;5;45mNone\u001b[0m, \u001b[38;5;34m1\u001b[0m)              │              \u001b[38;5;34m0\u001b[0m │ -                      │\n",
              "├───────────────────────────┼────────────────────────┼────────────────┼────────────────────────┤\n",
              "│ embedding_18 (\u001b[38;5;33mEmbedding\u001b[0m)  │ (\u001b[38;5;45mNone\u001b[0m, \u001b[38;5;34m1\u001b[0m, \u001b[38;5;34m5\u001b[0m)           │             \u001b[38;5;34m95\u001b[0m │ make_input[\u001b[38;5;34m0\u001b[0m][\u001b[38;5;34m0\u001b[0m]       │\n",
              "├───────────────────────────┼────────────────────────┼────────────────┼────────────────────────┤\n",
              "│ numeric_inputs            │ (\u001b[38;5;45mNone\u001b[0m, \u001b[38;5;34m60\u001b[0m)             │              \u001b[38;5;34m0\u001b[0m │ -                      │\n",
              "│ (\u001b[38;5;33mInputLayer\u001b[0m)              │                        │                │                        │\n",
              "├───────────────────────────┼────────────────────────┼────────────────┼────────────────────────┤\n",
              "│ flatten_18 (\u001b[38;5;33mFlatten\u001b[0m)      │ (\u001b[38;5;45mNone\u001b[0m, \u001b[38;5;34m5\u001b[0m)              │              \u001b[38;5;34m0\u001b[0m │ embedding_18[\u001b[38;5;34m0\u001b[0m][\u001b[38;5;34m0\u001b[0m]     │\n",
              "├───────────────────────────┼────────────────────────┼────────────────┼────────────────────────┤\n",
              "│ concatenate_18            │ (\u001b[38;5;45mNone\u001b[0m, \u001b[38;5;34m65\u001b[0m)             │              \u001b[38;5;34m0\u001b[0m │ numeric_inputs[\u001b[38;5;34m0\u001b[0m][\u001b[38;5;34m0\u001b[0m],  │\n",
              "│ (\u001b[38;5;33mConcatenate\u001b[0m)             │                        │                │ flatten_18[\u001b[38;5;34m0\u001b[0m][\u001b[38;5;34m0\u001b[0m]       │\n",
              "├───────────────────────────┼────────────────────────┼────────────────┼────────────────────────┤\n",
              "│ dense_680 (\u001b[38;5;33mDense\u001b[0m)         │ (\u001b[38;5;45mNone\u001b[0m, \u001b[38;5;34m256\u001b[0m)            │         \u001b[38;5;34m16,896\u001b[0m │ concatenate_18[\u001b[38;5;34m0\u001b[0m][\u001b[38;5;34m0\u001b[0m]   │\n",
              "├───────────────────────────┼────────────────────────┼────────────────┼────────────────────────┤\n",
              "│ batch_normalization_36    │ (\u001b[38;5;45mNone\u001b[0m, \u001b[38;5;34m256\u001b[0m)            │          \u001b[38;5;34m1,024\u001b[0m │ dense_680[\u001b[38;5;34m0\u001b[0m][\u001b[38;5;34m0\u001b[0m]        │\n",
              "│ (\u001b[38;5;33mBatchNormalization\u001b[0m)      │                        │                │                        │\n",
              "├───────────────────────────┼────────────────────────┼────────────────┼────────────────────────┤\n",
              "│ dropout_36 (\u001b[38;5;33mDropout\u001b[0m)      │ (\u001b[38;5;45mNone\u001b[0m, \u001b[38;5;34m256\u001b[0m)            │              \u001b[38;5;34m0\u001b[0m │ batch_normalization_3… │\n",
              "├───────────────────────────┼────────────────────────┼────────────────┼────────────────────────┤\n",
              "│ dense_681 (\u001b[38;5;33mDense\u001b[0m)         │ (\u001b[38;5;45mNone\u001b[0m, \u001b[38;5;34m128\u001b[0m)            │         \u001b[38;5;34m32,896\u001b[0m │ dropout_36[\u001b[38;5;34m0\u001b[0m][\u001b[38;5;34m0\u001b[0m]       │\n",
              "├───────────────────────────┼────────────────────────┼────────────────┼────────────────────────┤\n",
              "│ dense_682 (\u001b[38;5;33mDense\u001b[0m)         │ (\u001b[38;5;45mNone\u001b[0m, \u001b[38;5;34m64\u001b[0m)             │          \u001b[38;5;34m8,256\u001b[0m │ dense_681[\u001b[38;5;34m0\u001b[0m][\u001b[38;5;34m0\u001b[0m]        │\n",
              "├───────────────────────────┼────────────────────────┼────────────────┼────────────────────────┤\n",
              "│ dense_683 (\u001b[38;5;33mDense\u001b[0m)         │ (\u001b[38;5;45mNone\u001b[0m, \u001b[38;5;34m32\u001b[0m)             │          \u001b[38;5;34m2,080\u001b[0m │ dense_682[\u001b[38;5;34m0\u001b[0m][\u001b[38;5;34m0\u001b[0m]        │\n",
              "├───────────────────────────┼────────────────────────┼────────────────┼────────────────────────┤\n",
              "│ dense_684 (\u001b[38;5;33mDense\u001b[0m)         │ (\u001b[38;5;45mNone\u001b[0m, \u001b[38;5;34m16\u001b[0m)             │            \u001b[38;5;34m528\u001b[0m │ dense_683[\u001b[38;5;34m0\u001b[0m][\u001b[38;5;34m0\u001b[0m]        │\n",
              "├───────────────────────────┼────────────────────────┼────────────────┼────────────────────────┤\n",
              "│ dense_685 (\u001b[38;5;33mDense\u001b[0m)         │ (\u001b[38;5;45mNone\u001b[0m, \u001b[38;5;34m1\u001b[0m)              │             \u001b[38;5;34m17\u001b[0m │ dense_684[\u001b[38;5;34m0\u001b[0m][\u001b[38;5;34m0\u001b[0m]        │\n",
              "└───────────────────────────┴────────────────────────┴────────────────┴────────────────────────┘\n"
            ]
          },
          "metadata": {},
          "output_type": "display_data"
        },
        {
          "data": {
            "text/html": [
              "<pre style=\"white-space:pre;overflow-x:auto;line-height:normal;font-family:Menlo,'DejaVu Sans Mono',consolas,'Courier New',monospace\"><span style=\"font-weight: bold\"> Total params: </span><span style=\"color: #00af00; text-decoration-color: #00af00\">61,792</span> (241.38 KB)\n",
              "</pre>\n"
            ],
            "text/plain": [
              "\u001b[1m Total params: \u001b[0m\u001b[38;5;34m61,792\u001b[0m (241.38 KB)\n"
            ]
          },
          "metadata": {},
          "output_type": "display_data"
        },
        {
          "data": {
            "text/html": [
              "<pre style=\"white-space:pre;overflow-x:auto;line-height:normal;font-family:Menlo,'DejaVu Sans Mono',consolas,'Courier New',monospace\"><span style=\"font-weight: bold\"> Trainable params: </span><span style=\"color: #00af00; text-decoration-color: #00af00\">61,280</span> (239.38 KB)\n",
              "</pre>\n"
            ],
            "text/plain": [
              "\u001b[1m Trainable params: \u001b[0m\u001b[38;5;34m61,280\u001b[0m (239.38 KB)\n"
            ]
          },
          "metadata": {},
          "output_type": "display_data"
        },
        {
          "data": {
            "text/html": [
              "<pre style=\"white-space:pre;overflow-x:auto;line-height:normal;font-family:Menlo,'DejaVu Sans Mono',consolas,'Courier New',monospace\"><span style=\"font-weight: bold\"> Non-trainable params: </span><span style=\"color: #00af00; text-decoration-color: #00af00\">512</span> (2.00 KB)\n",
              "</pre>\n"
            ],
            "text/plain": [
              "\u001b[1m Non-trainable params: \u001b[0m\u001b[38;5;34m512\u001b[0m (2.00 KB)\n"
            ]
          },
          "metadata": {},
          "output_type": "display_data"
        }
      ],
      "source": [
        "# ---------------------------\n",
        "# 5. Build Deep Neural Network\n",
        "# ---------------------------\n",
        "# ---------------------------\n",
        "# Custom Focal Loss Function\n",
        "# ---------------------------\n",
        "\n",
        "\n",
        "input_numeric = Input(shape=(best_k,), name=\"numeric_inputs\")\n",
        "input_make = Input(shape=(1,), dtype=tf.int32, name=\"make_input\")\n",
        "make_embedding = layers.Embedding(input_dim=len(make_vocab), output_dim=5)(input_make)\n",
        "make_flat = layers.Flatten()(make_embedding)\n",
        "\n",
        "x = layers.Concatenate()([input_numeric, make_flat])\n",
        "# x = layers.Dense(512, activation=\"relu\")(x)\n",
        "# x = layers.BatchNormalization()(x)\n",
        "# x = layers.Dropout(0.2)(x)\n",
        "x = layers.Dense(256, activation=\"relu\")(x)\n",
        "x = layers.BatchNormalization()(x)\n",
        "x = layers.Dropout(0.2)(x)\n",
        "x = layers.Dense(128, activation=\"relu\")(x)\n",
        "x = layers.Dense(64, activation=\"relu\")(x)\n",
        "x = layers.Dense(32, activation=\"relu\")(x)\n",
        "x = layers.Dense(16, activation=\"relu\")(x)\n",
        "output = layers.Dense(1, activation=\"sigmoid\")(x)\n",
        "\n",
        "model = models.Model(inputs=[input_numeric, input_make], outputs=output)\n",
        "model.compile(optimizer=tf.keras.optimizers.Adam(learning_rate=5e-4, amsgrad=True), loss=focal_loss(gamma=2.0, alpha=0.25), metrics=[\"accuracy\", tf.keras.metrics.AUC(name=\"auc\")])\n",
        "\n",
        "model.summary()\n"
      ]
    },
    {
      "cell_type": "code",
      "execution_count": null,
      "metadata": {
        "colab": {
          "base_uri": "https://localhost:8080/"
        },
        "id": "tz8exv1XL3rj",
        "outputId": "c180584e-0a02-429c-ee5b-84b86af218ff"
      },
      "outputs": [
        {
          "name": "stdout",
          "output_type": "stream",
          "text": [
            "Epoch 1/30\n",
            "\u001b[1m78/78\u001b[0m \u001b[32m━━━━━━━━━━━━━━━━━━━━\u001b[0m\u001b[37m\u001b[0m \u001b[1m5s\u001b[0m 14ms/step - accuracy: 0.8845 - auc: 0.5472 - loss: 0.0457 - val_accuracy: 0.9461 - val_auc: 0.6479 - val_loss: 0.0373\n",
            "Epoch 2/30\n",
            "\u001b[1m78/78\u001b[0m \u001b[32m━━━━━━━━━━━━━━━━━━━━\u001b[0m\u001b[37m\u001b[0m \u001b[1m1s\u001b[0m 8ms/step - accuracy: 0.9334 - auc: 0.7437 - loss: 0.0216 - val_accuracy: 0.9461 - val_auc: 0.7436 - val_loss: 0.0284\n",
            "Epoch 3/30\n",
            "\u001b[1m78/78\u001b[0m \u001b[32m━━━━━━━━━━━━━━━━━━━━\u001b[0m\u001b[37m\u001b[0m \u001b[1m1s\u001b[0m 8ms/step - accuracy: 0.9370 - auc: 0.8218 - loss: 0.0186 - val_accuracy: 0.9461 - val_auc: 0.7821 - val_loss: 0.0229\n",
            "Epoch 4/30\n",
            "\u001b[1m78/78\u001b[0m \u001b[32m━━━━━━━━━━━━━━━━━━━━\u001b[0m\u001b[37m\u001b[0m \u001b[1m1s\u001b[0m 8ms/step - accuracy: 0.9393 - auc: 0.8476 - loss: 0.0173 - val_accuracy: 0.9461 - val_auc: 0.7844 - val_loss: 0.0203\n",
            "Epoch 5/30\n",
            "\u001b[1m78/78\u001b[0m \u001b[32m━━━━━━━━━━━━━━━━━━━━\u001b[0m\u001b[37m\u001b[0m \u001b[1m1s\u001b[0m 8ms/step - accuracy: 0.9359 - auc: 0.8544 - loss: 0.0177 - val_accuracy: 0.9461 - val_auc: 0.7848 - val_loss: 0.0186\n",
            "Epoch 6/30\n",
            "\u001b[1m78/78\u001b[0m \u001b[32m━━━━━━━━━━━━━━━━━━━━\u001b[0m\u001b[37m\u001b[0m \u001b[1m1s\u001b[0m 8ms/step - accuracy: 0.9424 - auc: 0.8783 - loss: 0.0156 - val_accuracy: 0.9461 - val_auc: 0.7864 - val_loss: 0.0188\n",
            "Epoch 7/30\n",
            "\u001b[1m78/78\u001b[0m \u001b[32m━━━━━━━━━━━━━━━━━━━━\u001b[0m\u001b[37m\u001b[0m \u001b[1m1s\u001b[0m 12ms/step - accuracy: 0.9370 - auc: 0.8928 - loss: 0.0160 - val_accuracy: 0.9461 - val_auc: 0.7898 - val_loss: 0.0181\n",
            "Epoch 8/30\n",
            "\u001b[1m78/78\u001b[0m \u001b[32m━━━━━━━━━━━━━━━━━━━━\u001b[0m\u001b[37m\u001b[0m \u001b[1m1s\u001b[0m 14ms/step - accuracy: 0.9379 - auc: 0.9086 - loss: 0.0152 - val_accuracy: 0.9461 - val_auc: 0.7803 - val_loss: 0.0183\n",
            "Epoch 9/30\n",
            "\u001b[1m78/78\u001b[0m \u001b[32m━━━━━━━━━━━━━━━━━━━━\u001b[0m\u001b[37m\u001b[0m \u001b[1m1s\u001b[0m 13ms/step - accuracy: 0.9414 - auc: 0.9048 - loss: 0.0147 - val_accuracy: 0.9461 - val_auc: 0.7842 - val_loss: 0.0185\n",
            "Epoch 10/30\n",
            "\u001b[1m78/78\u001b[0m \u001b[32m━━━━━━━━━━━━━━━━━━━━\u001b[0m\u001b[37m\u001b[0m \u001b[1m1s\u001b[0m 8ms/step - accuracy: 0.9394 - auc: 0.9289 - loss: 0.0140 - val_accuracy: 0.9457 - val_auc: 0.7819 - val_loss: 0.0188\n",
            "Epoch 11/30\n",
            "\u001b[1m78/78\u001b[0m \u001b[32m━━━━━━━━━━━━━━━━━━━━\u001b[0m\u001b[37m\u001b[0m \u001b[1m1s\u001b[0m 9ms/step - accuracy: 0.9400 - auc: 0.9217 - loss: 0.0142 - val_accuracy: 0.9457 - val_auc: 0.7747 - val_loss: 0.0192\n",
            "Epoch 12/30\n",
            "\u001b[1m78/78\u001b[0m \u001b[32m━━━━━━━━━━━━━━━━━━━━\u001b[0m\u001b[37m\u001b[0m \u001b[1m1s\u001b[0m 8ms/step - accuracy: 0.9453 - auc: 0.9442 - loss: 0.0122 - val_accuracy: 0.9441 - val_auc: 0.7637 - val_loss: 0.0203\n",
            "Epoch 13/30\n",
            "\u001b[1m78/78\u001b[0m \u001b[32m━━━━━━━━━━━━━━━━━━━━\u001b[0m\u001b[37m\u001b[0m \u001b[1m1s\u001b[0m 8ms/step - accuracy: 0.9431 - auc: 0.9445 - loss: 0.0126 - val_accuracy: 0.9453 - val_auc: 0.7740 - val_loss: 0.0205\n",
            "Epoch 14/30\n",
            "\u001b[1m78/78\u001b[0m \u001b[32m━━━━━━━━━━━━━━━━━━━━\u001b[0m\u001b[37m\u001b[0m \u001b[1m1s\u001b[0m 8ms/step - accuracy: 0.9419 - auc: 0.9364 - loss: 0.0131 - val_accuracy: 0.9437 - val_auc: 0.7922 - val_loss: 0.0206\n",
            "Epoch 15/30\n",
            "\u001b[1m78/78\u001b[0m \u001b[32m━━━━━━━━━━━━━━━━━━━━\u001b[0m\u001b[37m\u001b[0m \u001b[1m1s\u001b[0m 9ms/step - accuracy: 0.9430 - auc: 0.9508 - loss: 0.0123 - val_accuracy: 0.9449 - val_auc: 0.7628 - val_loss: 0.0213\n",
            "Epoch 16/30\n",
            "\u001b[1m78/78\u001b[0m \u001b[32m━━━━━━━━━━━━━━━━━━━━\u001b[0m\u001b[37m\u001b[0m \u001b[1m1s\u001b[0m 8ms/step - accuracy: 0.9472 - auc: 0.9550 - loss: 0.0113 - val_accuracy: 0.9445 - val_auc: 0.7670 - val_loss: 0.0216\n",
            "Epoch 17/30\n",
            "\u001b[1m78/78\u001b[0m \u001b[32m━━━━━━━━━━━━━━━━━━━━\u001b[0m\u001b[37m\u001b[0m \u001b[1m1s\u001b[0m 9ms/step - accuracy: 0.9461 - auc: 0.9648 - loss: 0.0109 - val_accuracy: 0.9445 - val_auc: 0.7758 - val_loss: 0.0216\n",
            "Epoch 18/30\n",
            "\u001b[1m78/78\u001b[0m \u001b[32m━━━━━━━━━━━━━━━━━━━━\u001b[0m\u001b[37m\u001b[0m \u001b[1m1s\u001b[0m 8ms/step - accuracy: 0.9519 - auc: 0.9644 - loss: 0.0101 - val_accuracy: 0.9457 - val_auc: 0.7639 - val_loss: 0.0240\n",
            "Epoch 19/30\n",
            "\u001b[1m78/78\u001b[0m \u001b[32m━━━━━━━━━━━━━━━━━━━━\u001b[0m\u001b[37m\u001b[0m \u001b[1m2s\u001b[0m 11ms/step - accuracy: 0.9522 - auc: 0.9704 - loss: 0.0097 - val_accuracy: 0.9417 - val_auc: 0.7659 - val_loss: 0.0238\n",
            "Epoch 20/30\n",
            "\u001b[1m78/78\u001b[0m \u001b[32m━━━━━━━━━━━━━━━━━━━━\u001b[0m\u001b[37m\u001b[0m \u001b[1m1s\u001b[0m 14ms/step - accuracy: 0.9514 - auc: 0.9685 - loss: 0.0103 - val_accuracy: 0.9445 - val_auc: 0.7687 - val_loss: 0.0247\n",
            "Epoch 21/30\n",
            "\u001b[1m78/78\u001b[0m \u001b[32m━━━━━━━━━━━━━━━━━━━━\u001b[0m\u001b[37m\u001b[0m \u001b[1m1s\u001b[0m 10ms/step - accuracy: 0.9544 - auc: 0.9771 - loss: 0.0090 - val_accuracy: 0.9429 - val_auc: 0.7715 - val_loss: 0.0253\n",
            "Epoch 22/30\n",
            "\u001b[1m78/78\u001b[0m \u001b[32m━━━━━━━━━━━━━━━━━━━━\u001b[0m\u001b[37m\u001b[0m \u001b[1m1s\u001b[0m 8ms/step - accuracy: 0.9553 - auc: 0.9762 - loss: 0.0088 - val_accuracy: 0.9396 - val_auc: 0.7456 - val_loss: 0.0268\n",
            "Epoch 23/30\n",
            "\u001b[1m78/78\u001b[0m \u001b[32m━━━━━━━━━━━━━━━━━━━━\u001b[0m\u001b[37m\u001b[0m \u001b[1m1s\u001b[0m 9ms/step - accuracy: 0.9593 - auc: 0.9827 - loss: 0.0079 - val_accuracy: 0.9376 - val_auc: 0.7510 - val_loss: 0.0274\n",
            "Epoch 24/30\n",
            "\u001b[1m78/78\u001b[0m \u001b[32m━━━━━━━━━━━━━━━━━━━━\u001b[0m\u001b[37m\u001b[0m \u001b[1m1s\u001b[0m 8ms/step - accuracy: 0.9608 - auc: 0.9798 - loss: 0.0083 - val_accuracy: 0.9319 - val_auc: 0.7426 - val_loss: 0.0273\n",
            "Epoch 25/30\n",
            "\u001b[1m78/78\u001b[0m \u001b[32m━━━━━━━━━━━━━━━━━━━━\u001b[0m\u001b[37m\u001b[0m \u001b[1m1s\u001b[0m 8ms/step - accuracy: 0.9608 - auc: 0.9787 - loss: 0.0088 - val_accuracy: 0.9400 - val_auc: 0.7461 - val_loss: 0.0289\n",
            "Epoch 26/30\n",
            "\u001b[1m78/78\u001b[0m \u001b[32m━━━━━━━━━━━━━━━━━━━━\u001b[0m\u001b[37m\u001b[0m \u001b[1m1s\u001b[0m 8ms/step - accuracy: 0.9607 - auc: 0.9864 - loss: 0.0074 - val_accuracy: 0.9380 - val_auc: 0.7586 - val_loss: 0.0310\n",
            "Epoch 27/30\n",
            "\u001b[1m78/78\u001b[0m \u001b[32m━━━━━━━━━━━━━━━━━━━━\u001b[0m\u001b[37m\u001b[0m \u001b[1m1s\u001b[0m 9ms/step - accuracy: 0.9621 - auc: 0.9841 - loss: 0.0076 - val_accuracy: 0.9299 - val_auc: 0.7564 - val_loss: 0.0299\n",
            "Epoch 28/30\n",
            "\u001b[1m78/78\u001b[0m \u001b[32m━━━━━━━━━━━━━━━━━━━━\u001b[0m\u001b[37m\u001b[0m \u001b[1m1s\u001b[0m 8ms/step - accuracy: 0.9638 - auc: 0.9884 - loss: 0.0069 - val_accuracy: 0.9360 - val_auc: 0.7583 - val_loss: 0.0314\n",
            "Epoch 29/30\n",
            "\u001b[1m78/78\u001b[0m \u001b[32m━━━━━━━━━━━━━━━━━━━━\u001b[0m\u001b[37m\u001b[0m \u001b[1m1s\u001b[0m 8ms/step - accuracy: 0.9695 - auc: 0.9896 - loss: 0.0064 - val_accuracy: 0.9376 - val_auc: 0.7536 - val_loss: 0.0327\n",
            "Epoch 30/30\n",
            "\u001b[1m78/78\u001b[0m \u001b[32m━━━━━━━━━━━━━━━━━━━━\u001b[0m\u001b[37m\u001b[0m \u001b[1m1s\u001b[0m 8ms/step - accuracy: 0.9669 - auc: 0.9840 - loss: 0.0072 - val_accuracy: 0.9348 - val_auc: 0.7325 - val_loss: 0.0332\n",
            "\u001b[1m97/97\u001b[0m \u001b[32m━━━━━━━━━━━━━━━━━━━━\u001b[0m\u001b[37m\u001b[0m \u001b[1m0s\u001b[0m 4ms/step - accuracy: 0.9269 - auc: 0.6952 - loss: 0.0407\n",
            "\n",
            "Test Results - Loss: 0.0365, Accuracy: 0.9267, AUC: 0.7357\n"
          ]
        }
      ],
      "source": [
        "# ---------------------------\n",
        "# 4. Train & Evaluate\n",
        "# ---------------------------\n",
        "early_stop = EarlyStopping(\n",
        "    monitor='val_loss',\n",
        "    patience=5,\n",
        "    restore_best_weights=True,\n",
        "    verbose=1\n",
        ")\n",
        "\n",
        "history = model.fit(\n",
        "    {\"numeric_inputs\": X_train_final, \"make_input\": make_train_res},\n",
        "    y_train_res,\n",
        "    validation_split=0.2,\n",
        "    epochs=30,\n",
        "    batch_size=128,\n",
        "    class_weight=class_weights,\n",
        "    # callbacks=[early_stop],\n",
        "    verbose=1\n",
        ")\n",
        "\n",
        "results = model.evaluate({\"numeric_inputs\": X_test_final, \"make_input\": make_test}, y_test, verbose=1)\n",
        "print(\"\\nTest Results - Loss: {:.4f}, Accuracy: {:.4f}, AUC: {:.4f}\".format(*results))"
      ]
    },
    {
      "cell_type": "code",
      "execution_count": null,
      "metadata": {
        "colab": {
          "base_uri": "https://localhost:8080/"
        },
        "id": "PMHPKqa4MJro",
        "outputId": "d54f53bb-6c2e-4a5c-9cd0-7cae5c3d2480"
      },
      "outputs": [
        {
          "name": "stdout",
          "output_type": "stream",
          "text": [
            "\u001b[1m97/97\u001b[0m \u001b[32m━━━━━━━━━━━━━━━━━━━━\u001b[0m\u001b[37m\u001b[0m \u001b[1m1s\u001b[0m 5ms/step\n",
            "\n",
            "Optimal Threshold based on F1 Score: 0.0809\n",
            "\n",
            "Classification Report (F1-Optimized Threshold):\n",
            "\n",
            "              precision    recall  f1-score   support\n",
            "\n",
            "           0       0.97      0.76      0.85      2899\n",
            "           1       0.14      0.59      0.22       185\n",
            "\n",
            "    accuracy                           0.75      3084\n",
            "   macro avg       0.55      0.68      0.54      3084\n",
            "weighted avg       0.92      0.75      0.81      3084\n",
            "\n",
            "Confusion Matrix:\n",
            "\n",
            "[[2209  690]\n",
            " [  76  109]]\n"
          ]
        }
      ],
      "source": [
        "# ---------------------------\n",
        "# 7. Classification Report, Confusion Matrix & Threshold Tuning\n",
        "# ---------------------------\n",
        "\n",
        "y_pred_probs = model.predict({\"numeric_inputs\": X_test_final, \"make_input\": make_test})\n",
        "\n",
        "\n",
        "prec, rec, thresholds = precision_recall_curve(y_test, y_pred_probs)\n",
        "\n",
        "# Tune threshold using F1 score\n",
        "# f1_scores = 2 * (prec * rec) / (prec + rec + 1e-6)\n",
        "# best_thresh = thresholds[np.argmax(f1_scores)]\n",
        "\n",
        "# Tune threshold with recall heavy\n",
        "f1_weighted = 2 * ((0.3 * prec * 0.7 * rec) / (0.3 * prec + 0.7 * rec + 1e-6))\n",
        "best_thresh = thresholds[np.argmax(f1_weighted)]\n",
        "\n",
        "# Apply optimal threshold\n",
        "y_pred_opt = (y_pred_probs >= best_thresh).astype(int)\n",
        "\n",
        "print(f\"\\nOptimal Threshold based on F1 Score: {best_thresh:.4f}\\n\")\n",
        "print(\"Classification Report (F1-Optimized Threshold):\\n\")\n",
        "print(classification_report(y_test, y_pred_opt))\n",
        "\n",
        "print(\"Confusion Matrix:\\n\")\n",
        "print(confusion_matrix(y_test, y_pred_opt))\n"
      ]
    },
    {
      "cell_type": "code",
      "execution_count": null,
      "metadata": {
        "colab": {
          "base_uri": "https://localhost:8080/",
          "height": 487
        },
        "id": "knE3yOI-MSrr",
        "outputId": "a7e09cbb-7ea4-48f9-b535-64adfd4fa574"
      },
      "outputs": [
        {
          "data": {
            "image/png": "[encoded data removed]",
            "text/plain": [
              "<Figure size 600x500 with 2 Axes>"
            ]
          },
          "metadata": {},
          "output_type": "display_data"
        }
      ],
      "source": [
        "plt.figure(figsize=(6, 5))\n",
        "sns.heatmap(confusion_matrix(y_test, y_pred_opt), annot=True, fmt='d', cmap='Blues')\n",
        "plt.title('Confusion Matrix')\n",
        "plt.xlabel('Predicted')\n",
        "plt.ylabel('Actual')\n",
        "plt.show()"
      ]
    },
    {
      "cell_type": "code",
      "execution_count": null,
      "metadata": {
        "colab": {
          "base_uri": "https://localhost:8080/",
          "height": 507
        },
        "id": "6faUbkU9U0X4",
        "outputId": "eb99e211-1a36-4dde-d6a7-e5b7a72696dc"
      },
      "outputs": [
        {
          "data": {
            "image/png": "[encoded data removed]",
            "text/plain": [
              "<Figure size 1200x500 with 2 Axes>"
            ]
          },
          "metadata": {},
          "output_type": "display_data"
        }
      ],
      "source": [
        "# ---------------------------\n",
        "# 6. Plot Training Curves\n",
        "# ---------------------------\n",
        "\n",
        "plt.figure(figsize=(12, 5))\n",
        "\n",
        "plt.subplot(1, 2, 1)\n",
        "plt.plot(history.history['loss'], label='Train Loss')\n",
        "plt.plot(history.history['val_loss'], label='Val Loss')\n",
        "plt.title('Loss Curve')\n",
        "plt.xlabel('Epoch')\n",
        "plt.ylabel('Loss')\n",
        "plt.legend()\n",
        "\n",
        "plt.subplot(1, 2, 2)\n",
        "plt.plot(history.history['auc'], label='Train AUC')\n",
        "plt.plot(history.history['val_auc'], label='Val AUC')\n",
        "plt.title('AUC Curve')\n",
        "plt.xlabel('Epoch')\n",
        "plt.ylabel('AUC')\n",
        "plt.legend()\n",
        "\n",
        "plt.tight_layout()\n",
        "plt.show()"
      ]
    }
  ],
  "metadata": {
    "colab": {
      "provenance": []
    },
    "kernelspec": {
      "display_name": "Python 3",
      "name": "python3"
    },
    "language_info": {
      "name": "python"
    }
  },
  "nbformat": 4,
  "nbformat_minor": 0
}
